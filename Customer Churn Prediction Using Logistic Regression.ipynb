{
 "cells": [
  {
   "cell_type": "code",
   "execution_count": 1,
   "id": "b9edc7e6",
   "metadata": {
    "_cell_guid": "b1076dfc-b9ad-4769-8c92-a6c4dae69d19",
    "_uuid": "8f2839f25d086af736a60e9eeb907d3b93b6e0e5",
    "execution": {
     "iopub.execute_input": "2022-07-27T03:02:54.333607Z",
     "iopub.status.busy": "2022-07-27T03:02:54.332969Z",
     "iopub.status.idle": "2022-07-27T03:02:55.845867Z",
     "shell.execute_reply": "2022-07-27T03:02:55.844448Z"
    },
    "papermill": {
     "duration": 1.535832,
     "end_time": "2022-07-27T03:02:55.850126",
     "exception": false,
     "start_time": "2022-07-27T03:02:54.314294",
     "status": "completed"
    },
    "tags": []
   },
   "outputs": [
    {
     "name": "stdout",
     "output_type": "stream",
     "text": [
      "/kaggle/input/bank-customer-churn-prediction/Churn_Modelling.csv\n"
     ]
    }
   ],
   "source": [
    "# This Python 3 environment comes with many helpful analytics libraries installed\n",
    "# It is defined by the kaggle/python Docker image: https://github.com/kaggle/docker-python\n",
    "# For example, here's several helpful packages to load\n",
    "\n",
    "import numpy as np # linear algebra\n",
    "import pandas as pd # data processing, CSV file I/O (e.g. pd.read_csv)\n",
    "import seaborn as sns\n",
    "import matplotlib.pyplot as plt\n",
    "from sklearn.linear_model import LogisticRegression\n",
    "from sklearn.preprocessing import StandardScaler\n",
    "from sklearn.model_selection import train_test_split\n",
    "from sklearn.metrics import confusion_matrix\n",
    "from sklearn.metrics import classification_report\n",
    "from sklearn.metrics import accuracy_score\n",
    "\n",
    "import os\n",
    "for dirname, _, filenames in os.walk('/kaggle/input'):\n",
    "    for filename in filenames:\n",
    "        print(os.path.join(dirname, filename))\n",
    "\n",
    "# You can write up to 20GB to the current directory (/kaggle/working/) that gets preserved as output when you create a version using \"Save & Run All\" \n",
    "# You can also write temporary files to /kaggle/temp/, but they won't be saved outside of the current session"
   ]
  },
  {
   "cell_type": "code",
   "execution_count": 2,
   "id": "21f459b2",
   "metadata": {
    "execution": {
     "iopub.execute_input": "2022-07-27T03:02:55.884827Z",
     "iopub.status.busy": "2022-07-27T03:02:55.883665Z",
     "iopub.status.idle": "2022-07-27T03:02:55.962170Z",
     "shell.execute_reply": "2022-07-27T03:02:55.961178Z"
    },
    "papermill": {
     "duration": 0.098132,
     "end_time": "2022-07-27T03:02:55.964558",
     "exception": false,
     "start_time": "2022-07-27T03:02:55.866426",
     "status": "completed"
    },
    "tags": []
   },
   "outputs": [
    {
     "data": {
      "text/html": [
       "<div>\n",
       "<style scoped>\n",
       "    .dataframe tbody tr th:only-of-type {\n",
       "        vertical-align: middle;\n",
       "    }\n",
       "\n",
       "    .dataframe tbody tr th {\n",
       "        vertical-align: top;\n",
       "    }\n",
       "\n",
       "    .dataframe thead th {\n",
       "        text-align: right;\n",
       "    }\n",
       "</style>\n",
       "<table border=\"1\" class=\"dataframe\">\n",
       "  <thead>\n",
       "    <tr style=\"text-align: right;\">\n",
       "      <th></th>\n",
       "      <th>CustomerId</th>\n",
       "      <th>Surname</th>\n",
       "      <th>CreditScore</th>\n",
       "      <th>Geography</th>\n",
       "      <th>Gender</th>\n",
       "      <th>Age</th>\n",
       "      <th>Tenure</th>\n",
       "      <th>Balance</th>\n",
       "      <th>NumOfProducts</th>\n",
       "      <th>HasCrCard</th>\n",
       "      <th>IsActiveMember</th>\n",
       "      <th>EstimatedSalary</th>\n",
       "      <th>Exited</th>\n",
       "    </tr>\n",
       "    <tr>\n",
       "      <th>RowNumber</th>\n",
       "      <th></th>\n",
       "      <th></th>\n",
       "      <th></th>\n",
       "      <th></th>\n",
       "      <th></th>\n",
       "      <th></th>\n",
       "      <th></th>\n",
       "      <th></th>\n",
       "      <th></th>\n",
       "      <th></th>\n",
       "      <th></th>\n",
       "      <th></th>\n",
       "      <th></th>\n",
       "    </tr>\n",
       "  </thead>\n",
       "  <tbody>\n",
       "    <tr>\n",
       "      <th>1</th>\n",
       "      <td>15634602</td>\n",
       "      <td>Hargrave</td>\n",
       "      <td>619</td>\n",
       "      <td>France</td>\n",
       "      <td>Female</td>\n",
       "      <td>42</td>\n",
       "      <td>2</td>\n",
       "      <td>0.00</td>\n",
       "      <td>1</td>\n",
       "      <td>1</td>\n",
       "      <td>1</td>\n",
       "      <td>101348.88</td>\n",
       "      <td>1</td>\n",
       "    </tr>\n",
       "    <tr>\n",
       "      <th>2</th>\n",
       "      <td>15647311</td>\n",
       "      <td>Hill</td>\n",
       "      <td>608</td>\n",
       "      <td>Spain</td>\n",
       "      <td>Female</td>\n",
       "      <td>41</td>\n",
       "      <td>1</td>\n",
       "      <td>83807.86</td>\n",
       "      <td>1</td>\n",
       "      <td>0</td>\n",
       "      <td>1</td>\n",
       "      <td>112542.58</td>\n",
       "      <td>0</td>\n",
       "    </tr>\n",
       "    <tr>\n",
       "      <th>3</th>\n",
       "      <td>15619304</td>\n",
       "      <td>Onio</td>\n",
       "      <td>502</td>\n",
       "      <td>France</td>\n",
       "      <td>Female</td>\n",
       "      <td>42</td>\n",
       "      <td>8</td>\n",
       "      <td>159660.80</td>\n",
       "      <td>3</td>\n",
       "      <td>1</td>\n",
       "      <td>0</td>\n",
       "      <td>113931.57</td>\n",
       "      <td>1</td>\n",
       "    </tr>\n",
       "    <tr>\n",
       "      <th>4</th>\n",
       "      <td>15701354</td>\n",
       "      <td>Boni</td>\n",
       "      <td>699</td>\n",
       "      <td>France</td>\n",
       "      <td>Female</td>\n",
       "      <td>39</td>\n",
       "      <td>1</td>\n",
       "      <td>0.00</td>\n",
       "      <td>2</td>\n",
       "      <td>0</td>\n",
       "      <td>0</td>\n",
       "      <td>93826.63</td>\n",
       "      <td>0</td>\n",
       "    </tr>\n",
       "    <tr>\n",
       "      <th>5</th>\n",
       "      <td>15737888</td>\n",
       "      <td>Mitchell</td>\n",
       "      <td>850</td>\n",
       "      <td>Spain</td>\n",
       "      <td>Female</td>\n",
       "      <td>43</td>\n",
       "      <td>2</td>\n",
       "      <td>125510.82</td>\n",
       "      <td>1</td>\n",
       "      <td>1</td>\n",
       "      <td>1</td>\n",
       "      <td>79084.10</td>\n",
       "      <td>0</td>\n",
       "    </tr>\n",
       "  </tbody>\n",
       "</table>\n",
       "</div>"
      ],
      "text/plain": [
       "           CustomerId   Surname  CreditScore Geography  Gender  Age  Tenure  \\\n",
       "RowNumber                                                                     \n",
       "1            15634602  Hargrave          619    France  Female   42       2   \n",
       "2            15647311      Hill          608     Spain  Female   41       1   \n",
       "3            15619304      Onio          502    France  Female   42       8   \n",
       "4            15701354      Boni          699    France  Female   39       1   \n",
       "5            15737888  Mitchell          850     Spain  Female   43       2   \n",
       "\n",
       "             Balance  NumOfProducts  HasCrCard  IsActiveMember  \\\n",
       "RowNumber                                                        \n",
       "1               0.00              1          1               1   \n",
       "2           83807.86              1          0               1   \n",
       "3          159660.80              3          1               0   \n",
       "4               0.00              2          0               0   \n",
       "5          125510.82              1          1               1   \n",
       "\n",
       "           EstimatedSalary  Exited  \n",
       "RowNumber                           \n",
       "1                101348.88       1  \n",
       "2                112542.58       0  \n",
       "3                113931.57       1  \n",
       "4                 93826.63       0  \n",
       "5                 79084.10       0  "
      ]
     },
     "execution_count": 2,
     "metadata": {},
     "output_type": "execute_result"
    }
   ],
   "source": [
    "data= pd.read_csv('../input/bank-customer-churn-prediction/Churn_Modelling.csv', index_col='RowNumber')\n",
    "data.head()"
   ]
  },
  {
   "cell_type": "markdown",
   "id": "3d711c06",
   "metadata": {
    "papermill": {
     "duration": 0.016391,
     "end_time": "2022-07-27T03:02:55.996647",
     "exception": false,
     "start_time": "2022-07-27T03:02:55.980256",
     "status": "completed"
    },
    "tags": []
   },
   "source": [
    "# Understanding Data"
   ]
  },
  {
   "cell_type": "code",
   "execution_count": 3,
   "id": "9af316c5",
   "metadata": {
    "execution": {
     "iopub.execute_input": "2022-07-27T03:02:56.030373Z",
     "iopub.status.busy": "2022-07-27T03:02:56.029915Z",
     "iopub.status.idle": "2022-07-27T03:02:56.055267Z",
     "shell.execute_reply": "2022-07-27T03:02:56.053575Z"
    },
    "papermill": {
     "duration": 0.045453,
     "end_time": "2022-07-27T03:02:56.058093",
     "exception": false,
     "start_time": "2022-07-27T03:02:56.012640",
     "status": "completed"
    },
    "tags": []
   },
   "outputs": [
    {
     "name": "stdout",
     "output_type": "stream",
     "text": [
      "<class 'pandas.core.frame.DataFrame'>\n",
      "Int64Index: 10000 entries, 1 to 10000\n",
      "Data columns (total 13 columns):\n",
      " #   Column           Non-Null Count  Dtype  \n",
      "---  ------           --------------  -----  \n",
      " 0   CustomerId       10000 non-null  int64  \n",
      " 1   Surname          10000 non-null  object \n",
      " 2   CreditScore      10000 non-null  int64  \n",
      " 3   Geography        10000 non-null  object \n",
      " 4   Gender           10000 non-null  object \n",
      " 5   Age              10000 non-null  int64  \n",
      " 6   Tenure           10000 non-null  int64  \n",
      " 7   Balance          10000 non-null  float64\n",
      " 8   NumOfProducts    10000 non-null  int64  \n",
      " 9   HasCrCard        10000 non-null  int64  \n",
      " 10  IsActiveMember   10000 non-null  int64  \n",
      " 11  EstimatedSalary  10000 non-null  float64\n",
      " 12  Exited           10000 non-null  int64  \n",
      "dtypes: float64(2), int64(8), object(3)\n",
      "memory usage: 1.1+ MB\n"
     ]
    }
   ],
   "source": [
    "data.info()"
   ]
  },
  {
   "cell_type": "code",
   "execution_count": 4,
   "id": "575585e8",
   "metadata": {
    "execution": {
     "iopub.execute_input": "2022-07-27T03:02:56.092189Z",
     "iopub.status.busy": "2022-07-27T03:02:56.091395Z",
     "iopub.status.idle": "2022-07-27T03:02:56.145107Z",
     "shell.execute_reply": "2022-07-27T03:02:56.143826Z"
    },
    "papermill": {
     "duration": 0.073326,
     "end_time": "2022-07-27T03:02:56.147569",
     "exception": false,
     "start_time": "2022-07-27T03:02:56.074243",
     "status": "completed"
    },
    "tags": []
   },
   "outputs": [
    {
     "data": {
      "text/html": [
       "<div>\n",
       "<style scoped>\n",
       "    .dataframe tbody tr th:only-of-type {\n",
       "        vertical-align: middle;\n",
       "    }\n",
       "\n",
       "    .dataframe tbody tr th {\n",
       "        vertical-align: top;\n",
       "    }\n",
       "\n",
       "    .dataframe thead th {\n",
       "        text-align: right;\n",
       "    }\n",
       "</style>\n",
       "<table border=\"1\" class=\"dataframe\">\n",
       "  <thead>\n",
       "    <tr style=\"text-align: right;\">\n",
       "      <th></th>\n",
       "      <th>CustomerId</th>\n",
       "      <th>CreditScore</th>\n",
       "      <th>Age</th>\n",
       "      <th>Tenure</th>\n",
       "      <th>Balance</th>\n",
       "      <th>NumOfProducts</th>\n",
       "      <th>HasCrCard</th>\n",
       "      <th>IsActiveMember</th>\n",
       "      <th>EstimatedSalary</th>\n",
       "      <th>Exited</th>\n",
       "    </tr>\n",
       "  </thead>\n",
       "  <tbody>\n",
       "    <tr>\n",
       "      <th>count</th>\n",
       "      <td>1.000000e+04</td>\n",
       "      <td>10000.000000</td>\n",
       "      <td>10000.000000</td>\n",
       "      <td>10000.000000</td>\n",
       "      <td>10000.000000</td>\n",
       "      <td>10000.000000</td>\n",
       "      <td>10000.00000</td>\n",
       "      <td>10000.000000</td>\n",
       "      <td>10000.000000</td>\n",
       "      <td>10000.000000</td>\n",
       "    </tr>\n",
       "    <tr>\n",
       "      <th>mean</th>\n",
       "      <td>1.569094e+07</td>\n",
       "      <td>650.528800</td>\n",
       "      <td>38.921800</td>\n",
       "      <td>5.012800</td>\n",
       "      <td>76485.889288</td>\n",
       "      <td>1.530200</td>\n",
       "      <td>0.70550</td>\n",
       "      <td>0.515100</td>\n",
       "      <td>100090.239881</td>\n",
       "      <td>0.203700</td>\n",
       "    </tr>\n",
       "    <tr>\n",
       "      <th>std</th>\n",
       "      <td>7.193619e+04</td>\n",
       "      <td>96.653299</td>\n",
       "      <td>10.487806</td>\n",
       "      <td>2.892174</td>\n",
       "      <td>62397.405202</td>\n",
       "      <td>0.581654</td>\n",
       "      <td>0.45584</td>\n",
       "      <td>0.499797</td>\n",
       "      <td>57510.492818</td>\n",
       "      <td>0.402769</td>\n",
       "    </tr>\n",
       "    <tr>\n",
       "      <th>min</th>\n",
       "      <td>1.556570e+07</td>\n",
       "      <td>350.000000</td>\n",
       "      <td>18.000000</td>\n",
       "      <td>0.000000</td>\n",
       "      <td>0.000000</td>\n",
       "      <td>1.000000</td>\n",
       "      <td>0.00000</td>\n",
       "      <td>0.000000</td>\n",
       "      <td>11.580000</td>\n",
       "      <td>0.000000</td>\n",
       "    </tr>\n",
       "    <tr>\n",
       "      <th>25%</th>\n",
       "      <td>1.562853e+07</td>\n",
       "      <td>584.000000</td>\n",
       "      <td>32.000000</td>\n",
       "      <td>3.000000</td>\n",
       "      <td>0.000000</td>\n",
       "      <td>1.000000</td>\n",
       "      <td>0.00000</td>\n",
       "      <td>0.000000</td>\n",
       "      <td>51002.110000</td>\n",
       "      <td>0.000000</td>\n",
       "    </tr>\n",
       "    <tr>\n",
       "      <th>50%</th>\n",
       "      <td>1.569074e+07</td>\n",
       "      <td>652.000000</td>\n",
       "      <td>37.000000</td>\n",
       "      <td>5.000000</td>\n",
       "      <td>97198.540000</td>\n",
       "      <td>1.000000</td>\n",
       "      <td>1.00000</td>\n",
       "      <td>1.000000</td>\n",
       "      <td>100193.915000</td>\n",
       "      <td>0.000000</td>\n",
       "    </tr>\n",
       "    <tr>\n",
       "      <th>75%</th>\n",
       "      <td>1.575323e+07</td>\n",
       "      <td>718.000000</td>\n",
       "      <td>44.000000</td>\n",
       "      <td>7.000000</td>\n",
       "      <td>127644.240000</td>\n",
       "      <td>2.000000</td>\n",
       "      <td>1.00000</td>\n",
       "      <td>1.000000</td>\n",
       "      <td>149388.247500</td>\n",
       "      <td>0.000000</td>\n",
       "    </tr>\n",
       "    <tr>\n",
       "      <th>max</th>\n",
       "      <td>1.581569e+07</td>\n",
       "      <td>850.000000</td>\n",
       "      <td>92.000000</td>\n",
       "      <td>10.000000</td>\n",
       "      <td>250898.090000</td>\n",
       "      <td>4.000000</td>\n",
       "      <td>1.00000</td>\n",
       "      <td>1.000000</td>\n",
       "      <td>199992.480000</td>\n",
       "      <td>1.000000</td>\n",
       "    </tr>\n",
       "  </tbody>\n",
       "</table>\n",
       "</div>"
      ],
      "text/plain": [
       "         CustomerId   CreditScore           Age        Tenure        Balance  \\\n",
       "count  1.000000e+04  10000.000000  10000.000000  10000.000000   10000.000000   \n",
       "mean   1.569094e+07    650.528800     38.921800      5.012800   76485.889288   \n",
       "std    7.193619e+04     96.653299     10.487806      2.892174   62397.405202   \n",
       "min    1.556570e+07    350.000000     18.000000      0.000000       0.000000   \n",
       "25%    1.562853e+07    584.000000     32.000000      3.000000       0.000000   \n",
       "50%    1.569074e+07    652.000000     37.000000      5.000000   97198.540000   \n",
       "75%    1.575323e+07    718.000000     44.000000      7.000000  127644.240000   \n",
       "max    1.581569e+07    850.000000     92.000000     10.000000  250898.090000   \n",
       "\n",
       "       NumOfProducts    HasCrCard  IsActiveMember  EstimatedSalary  \\\n",
       "count   10000.000000  10000.00000    10000.000000     10000.000000   \n",
       "mean        1.530200      0.70550        0.515100    100090.239881   \n",
       "std         0.581654      0.45584        0.499797     57510.492818   \n",
       "min         1.000000      0.00000        0.000000        11.580000   \n",
       "25%         1.000000      0.00000        0.000000     51002.110000   \n",
       "50%         1.000000      1.00000        1.000000    100193.915000   \n",
       "75%         2.000000      1.00000        1.000000    149388.247500   \n",
       "max         4.000000      1.00000        1.000000    199992.480000   \n",
       "\n",
       "             Exited  \n",
       "count  10000.000000  \n",
       "mean       0.203700  \n",
       "std        0.402769  \n",
       "min        0.000000  \n",
       "25%        0.000000  \n",
       "50%        0.000000  \n",
       "75%        0.000000  \n",
       "max        1.000000  "
      ]
     },
     "execution_count": 4,
     "metadata": {},
     "output_type": "execute_result"
    }
   ],
   "source": [
    "data.describe()"
   ]
  },
  {
   "cell_type": "markdown",
   "id": "84ed7fe0",
   "metadata": {
    "papermill": {
     "duration": 0.015415,
     "end_time": "2022-07-27T03:02:56.178747",
     "exception": false,
     "start_time": "2022-07-27T03:02:56.163332",
     "status": "completed"
    },
    "tags": []
   },
   "source": [
    "# Data Pre-Processing"
   ]
  },
  {
   "cell_type": "markdown",
   "id": "3862ab51",
   "metadata": {
    "papermill": {
     "duration": 0.015153,
     "end_time": "2022-07-27T03:02:56.209491",
     "exception": false,
     "start_time": "2022-07-27T03:02:56.194338",
     "status": "completed"
    },
    "tags": []
   },
   "source": [
    "We do not need the 'ID' and 'Surname' column in our dataset, as they won't contribute to the model as per the domain knowledge. So, dropping them :"
   ]
  },
  {
   "cell_type": "code",
   "execution_count": 5,
   "id": "ad927b5f",
   "metadata": {
    "execution": {
     "iopub.execute_input": "2022-07-27T03:02:56.243531Z",
     "iopub.status.busy": "2022-07-27T03:02:56.242658Z",
     "iopub.status.idle": "2022-07-27T03:02:56.250246Z",
     "shell.execute_reply": "2022-07-27T03:02:56.248849Z"
    },
    "papermill": {
     "duration": 0.028002,
     "end_time": "2022-07-27T03:02:56.253365",
     "exception": false,
     "start_time": "2022-07-27T03:02:56.225363",
     "status": "completed"
    },
    "tags": []
   },
   "outputs": [],
   "source": [
    "data = data.drop(['CustomerId','Surname'],axis=1)"
   ]
  },
  {
   "cell_type": "markdown",
   "id": "32bdf8bb",
   "metadata": {
    "papermill": {
     "duration": 0.015569,
     "end_time": "2022-07-27T03:02:56.286237",
     "exception": false,
     "start_time": "2022-07-27T03:02:56.270668",
     "status": "completed"
    },
    "tags": []
   },
   "source": [
    "Let's perform one hot encoding on Geography and Gender"
   ]
  },
  {
   "cell_type": "code",
   "execution_count": 6,
   "id": "d2a4fb8a",
   "metadata": {
    "execution": {
     "iopub.execute_input": "2022-07-27T03:02:56.320160Z",
     "iopub.status.busy": "2022-07-27T03:02:56.319722Z",
     "iopub.status.idle": "2022-07-27T03:02:56.341672Z",
     "shell.execute_reply": "2022-07-27T03:02:56.340629Z"
    },
    "papermill": {
     "duration": 0.042443,
     "end_time": "2022-07-27T03:02:56.344329",
     "exception": false,
     "start_time": "2022-07-27T03:02:56.301886",
     "status": "completed"
    },
    "tags": []
   },
   "outputs": [],
   "source": [
    "Geography_dummies=pd.get_dummies(data=data,columns=['Geography'])\n",
    "Gender_dummies=Geography_dummies.replace(to_replace={'Gender': {'Female':1, 'Male':0}})"
   ]
  },
  {
   "cell_type": "code",
   "execution_count": 7,
   "id": "644b2153",
   "metadata": {
    "execution": {
     "iopub.execute_input": "2022-07-27T03:02:56.378473Z",
     "iopub.status.busy": "2022-07-27T03:02:56.377632Z",
     "iopub.status.idle": "2022-07-27T03:02:56.395399Z",
     "shell.execute_reply": "2022-07-27T03:02:56.394142Z"
    },
    "papermill": {
     "duration": 0.037765,
     "end_time": "2022-07-27T03:02:56.397868",
     "exception": false,
     "start_time": "2022-07-27T03:02:56.360103",
     "status": "completed"
    },
    "tags": []
   },
   "outputs": [
    {
     "data": {
      "text/html": [
       "<div>\n",
       "<style scoped>\n",
       "    .dataframe tbody tr th:only-of-type {\n",
       "        vertical-align: middle;\n",
       "    }\n",
       "\n",
       "    .dataframe tbody tr th {\n",
       "        vertical-align: top;\n",
       "    }\n",
       "\n",
       "    .dataframe thead th {\n",
       "        text-align: right;\n",
       "    }\n",
       "</style>\n",
       "<table border=\"1\" class=\"dataframe\">\n",
       "  <thead>\n",
       "    <tr style=\"text-align: right;\">\n",
       "      <th></th>\n",
       "      <th>CreditScore</th>\n",
       "      <th>Gender</th>\n",
       "      <th>Age</th>\n",
       "      <th>Tenure</th>\n",
       "      <th>Balance</th>\n",
       "      <th>NumOfProducts</th>\n",
       "      <th>HasCrCard</th>\n",
       "      <th>IsActiveMember</th>\n",
       "      <th>EstimatedSalary</th>\n",
       "      <th>Exited</th>\n",
       "      <th>Geography_France</th>\n",
       "      <th>Geography_Germany</th>\n",
       "      <th>Geography_Spain</th>\n",
       "    </tr>\n",
       "    <tr>\n",
       "      <th>RowNumber</th>\n",
       "      <th></th>\n",
       "      <th></th>\n",
       "      <th></th>\n",
       "      <th></th>\n",
       "      <th></th>\n",
       "      <th></th>\n",
       "      <th></th>\n",
       "      <th></th>\n",
       "      <th></th>\n",
       "      <th></th>\n",
       "      <th></th>\n",
       "      <th></th>\n",
       "      <th></th>\n",
       "    </tr>\n",
       "  </thead>\n",
       "  <tbody>\n",
       "    <tr>\n",
       "      <th>1</th>\n",
       "      <td>619</td>\n",
       "      <td>1</td>\n",
       "      <td>42</td>\n",
       "      <td>2</td>\n",
       "      <td>0.00</td>\n",
       "      <td>1</td>\n",
       "      <td>1</td>\n",
       "      <td>1</td>\n",
       "      <td>101348.88</td>\n",
       "      <td>1</td>\n",
       "      <td>1</td>\n",
       "      <td>0</td>\n",
       "      <td>0</td>\n",
       "    </tr>\n",
       "    <tr>\n",
       "      <th>2</th>\n",
       "      <td>608</td>\n",
       "      <td>1</td>\n",
       "      <td>41</td>\n",
       "      <td>1</td>\n",
       "      <td>83807.86</td>\n",
       "      <td>1</td>\n",
       "      <td>0</td>\n",
       "      <td>1</td>\n",
       "      <td>112542.58</td>\n",
       "      <td>0</td>\n",
       "      <td>0</td>\n",
       "      <td>0</td>\n",
       "      <td>1</td>\n",
       "    </tr>\n",
       "    <tr>\n",
       "      <th>3</th>\n",
       "      <td>502</td>\n",
       "      <td>1</td>\n",
       "      <td>42</td>\n",
       "      <td>8</td>\n",
       "      <td>159660.80</td>\n",
       "      <td>3</td>\n",
       "      <td>1</td>\n",
       "      <td>0</td>\n",
       "      <td>113931.57</td>\n",
       "      <td>1</td>\n",
       "      <td>1</td>\n",
       "      <td>0</td>\n",
       "      <td>0</td>\n",
       "    </tr>\n",
       "    <tr>\n",
       "      <th>4</th>\n",
       "      <td>699</td>\n",
       "      <td>1</td>\n",
       "      <td>39</td>\n",
       "      <td>1</td>\n",
       "      <td>0.00</td>\n",
       "      <td>2</td>\n",
       "      <td>0</td>\n",
       "      <td>0</td>\n",
       "      <td>93826.63</td>\n",
       "      <td>0</td>\n",
       "      <td>1</td>\n",
       "      <td>0</td>\n",
       "      <td>0</td>\n",
       "    </tr>\n",
       "    <tr>\n",
       "      <th>5</th>\n",
       "      <td>850</td>\n",
       "      <td>1</td>\n",
       "      <td>43</td>\n",
       "      <td>2</td>\n",
       "      <td>125510.82</td>\n",
       "      <td>1</td>\n",
       "      <td>1</td>\n",
       "      <td>1</td>\n",
       "      <td>79084.10</td>\n",
       "      <td>0</td>\n",
       "      <td>0</td>\n",
       "      <td>0</td>\n",
       "      <td>1</td>\n",
       "    </tr>\n",
       "  </tbody>\n",
       "</table>\n",
       "</div>"
      ],
      "text/plain": [
       "           CreditScore  Gender  Age  Tenure    Balance  NumOfProducts  \\\n",
       "RowNumber                                                               \n",
       "1                  619       1   42       2       0.00              1   \n",
       "2                  608       1   41       1   83807.86              1   \n",
       "3                  502       1   42       8  159660.80              3   \n",
       "4                  699       1   39       1       0.00              2   \n",
       "5                  850       1   43       2  125510.82              1   \n",
       "\n",
       "           HasCrCard  IsActiveMember  EstimatedSalary  Exited  \\\n",
       "RowNumber                                                       \n",
       "1                  1               1        101348.88       1   \n",
       "2                  0               1        112542.58       0   \n",
       "3                  1               0        113931.57       1   \n",
       "4                  0               0         93826.63       0   \n",
       "5                  1               1         79084.10       0   \n",
       "\n",
       "           Geography_France  Geography_Germany  Geography_Spain  \n",
       "RowNumber                                                        \n",
       "1                         1                  0                0  \n",
       "2                         0                  0                1  \n",
       "3                         1                  0                0  \n",
       "4                         1                  0                0  \n",
       "5                         0                  0                1  "
      ]
     },
     "execution_count": 7,
     "metadata": {},
     "output_type": "execute_result"
    }
   ],
   "source": [
    "data_encoded= Gender_dummies\n",
    "data_encoded.head()"
   ]
  },
  {
   "cell_type": "markdown",
   "id": "21674c93",
   "metadata": {
    "papermill": {
     "duration": 0.016169,
     "end_time": "2022-07-27T03:02:56.432190",
     "exception": false,
     "start_time": "2022-07-27T03:02:56.416021",
     "status": "completed"
    },
    "tags": []
   },
   "source": [
    "# Exploratory Data Analysis"
   ]
  },
  {
   "cell_type": "code",
   "execution_count": 8,
   "id": "54a3bf74",
   "metadata": {
    "execution": {
     "iopub.execute_input": "2022-07-27T03:02:56.466207Z",
     "iopub.status.busy": "2022-07-27T03:02:56.465430Z",
     "iopub.status.idle": "2022-07-27T03:02:56.676560Z",
     "shell.execute_reply": "2022-07-27T03:02:56.675320Z"
    },
    "papermill": {
     "duration": 0.231316,
     "end_time": "2022-07-27T03:02:56.679352",
     "exception": false,
     "start_time": "2022-07-27T03:02:56.448036",
     "status": "completed"
    },
    "tags": []
   },
   "outputs": [
    {
     "data": {
      "image/png": "[encoded data removed]",
      "text/plain": [
       "<Figure size 432x288 with 1 Axes>"
      ]
     },
     "metadata": {
      "needs_background": "light"
     },
     "output_type": "display_data"
    }
   ],
   "source": [
    "sns.countplot(x=data_encoded['Exited'], data= data_encoded)\n",
    "plt.xlabel('Exit')\n",
    "plt.ylabel('Count')\n",
    "plt.show()"
   ]
  },
  {
   "cell_type": "markdown",
   "id": "35c04e61",
   "metadata": {
    "papermill": {
     "duration": 0.016098,
     "end_time": "2022-07-27T03:02:56.711833",
     "exception": false,
     "start_time": "2022-07-27T03:02:56.695735",
     "status": "completed"
    },
    "tags": []
   },
   "source": [
    "Checking the distribution of each feature:"
   ]
  },
  {
   "cell_type": "code",
   "execution_count": 9,
   "id": "dcfd3a1a",
   "metadata": {
    "execution": {
     "iopub.execute_input": "2022-07-27T03:02:56.746684Z",
     "iopub.status.busy": "2022-07-27T03:02:56.745611Z",
     "iopub.status.idle": "2022-07-27T03:02:58.552209Z",
     "shell.execute_reply": "2022-07-27T03:02:58.550881Z"
    },
    "papermill": {
     "duration": 1.826687,
     "end_time": "2022-07-27T03:02:58.554886",
     "exception": false,
     "start_time": "2022-07-27T03:02:56.728199",
     "status": "completed"
    },
    "tags": []
   },
   "outputs": [
    {
     "data": {
      "image/png": "[encoded data removed]",
      "text/plain": [
       "<Figure size 1080x864 with 16 Axes>"
      ]
     },
     "metadata": {
      "needs_background": "light"
     },
     "output_type": "display_data"
    }
   ],
   "source": [
    "data_encoded.hist(figsize=(15,12))\n",
    "plt.title('Features Distribution')\n",
    "plt.show()"
   ]
  },
  {
   "cell_type": "code",
   "execution_count": 10,
   "id": "6b67ed43",
   "metadata": {
    "execution": {
     "iopub.execute_input": "2022-07-27T03:02:58.592473Z",
     "iopub.status.busy": "2022-07-27T03:02:58.592030Z",
     "iopub.status.idle": "2022-07-27T03:03:00.918094Z",
     "shell.execute_reply": "2022-07-27T03:03:00.916882Z"
    },
    "papermill": {
     "duration": 2.348488,
     "end_time": "2022-07-27T03:03:00.920887",
     "exception": false,
     "start_time": "2022-07-27T03:02:58.572399",
     "status": "completed"
    },
    "tags": []
   },
   "outputs": [
    {
     "data": {
      "image/png": "[encoded data removed]",
      "text/plain": [
       "<Figure size 432x288 with 1 Axes>"
      ]
     },
     "metadata": {
      "needs_background": "light"
     },
     "output_type": "display_data"
    },
    {
     "data": {
      "image/png": "[encoded data removed]",
      "text/plain": [
       "<Figure size 432x288 with 1 Axes>"
      ]
     },
     "metadata": {
      "needs_background": "light"
     },
     "output_type": "display_data"
    },
    {
     "data": {
      "image/png": "[encoded data removed]",
      "text/plain": [
       "<Figure size 432x288 with 1 Axes>"
      ]
     },
     "metadata": {
      "needs_background": "light"
     },
     "output_type": "display_data"
    },
    {
     "data": {
      "image/png": "[encoded data removed]",
      "text/plain": [
       "<Figure size 432x288 with 1 Axes>"
      ]
     },
     "metadata": {
      "needs_background": "light"
     },
     "output_type": "display_data"
    },
    {
     "data": {
      "image/png": "[encoded data removed]",
      "text/plain": [
       "<Figure size 432x288 with 1 Axes>"
      ]
     },
     "metadata": {
      "needs_background": "light"
     },
     "output_type": "display_data"
    },
    {
     "data": {
      "image/png": "[encoded data removed]",
      "text/plain": [
       "<Figure size 432x288 with 1 Axes>"
      ]
     },
     "metadata": {
      "needs_background": "light"
     },
     "output_type": "display_data"
    },
    {
     "data": {
      "image/png": "[encoded data removed]",
      "text/plain": [
       "<Figure size 432x288 with 1 Axes>"
      ]
     },
     "metadata": {
      "needs_background": "light"
     },
     "output_type": "display_data"
    },
    {
     "data": {
      "image/png": "[encoded data removed]",
      "text/plain": [
       "<Figure size 432x288 with 1 Axes>"
      ]
     },
     "metadata": {
      "needs_background": "light"
     },
     "output_type": "display_data"
    },
    {
     "data": {
      "image/png": "[encoded data removed]",
      "text/plain": [
       "<Figure size 432x288 with 1 Axes>"
      ]
     },
     "metadata": {
      "needs_background": "light"
     },
     "output_type": "display_data"
    },
    {
     "data": {
      "image/png": "[encoded data removed]",
      "text/plain": [
       "<Figure size 432x288 with 1 Axes>"
      ]
     },
     "metadata": {
      "needs_background": "light"
     },
     "output_type": "display_data"
    },
    {
     "data": {
      "image/png": "[encoded data removed]",
      "text/plain": [
       "<Figure size 432x288 with 1 Axes>"
      ]
     },
     "metadata": {
      "needs_background": "light"
     },
     "output_type": "display_data"
    },
    {
     "data": {
      "image/png": "[encoded data removed]",
      "text/plain": [
       "<Figure size 432x288 with 1 Axes>"
      ]
     },
     "metadata": {
      "needs_background": "light"
     },
     "output_type": "display_data"
    },
    {
     "data": {
      "image/png": "[encoded data removed]",
      "text/plain": [
       "<Figure size 432x288 with 1 Axes>"
      ]
     },
     "metadata": {
      "needs_background": "light"
     },
     "output_type": "display_data"
    }
   ],
   "source": [
    "for i in range(0, len(data_encoded.columns)):\n",
    "    sns.boxplot(x=data_encoded['Exited'],y=data_encoded.iloc[:,i], data=data_encoded)\n",
    "    colname=data_encoded.columns[i]\n",
    "    plt.ylabel(colname)\n",
    "    plt.xlabel('Exited')\n",
    "    plt.show()\n"
   ]
  },
  {
   "cell_type": "markdown",
   "id": "3db53c7a",
   "metadata": {
    "papermill": {
     "duration": 0.019844,
     "end_time": "2022-07-27T03:03:00.961681",
     "exception": false,
     "start_time": "2022-07-27T03:03:00.941837",
     "status": "completed"
    },
    "tags": []
   },
   "source": [
    "# Building Model"
   ]
  },
  {
   "cell_type": "code",
   "execution_count": 11,
   "id": "617769db",
   "metadata": {
    "execution": {
     "iopub.execute_input": "2022-07-27T03:03:01.003878Z",
     "iopub.status.busy": "2022-07-27T03:03:01.003454Z",
     "iopub.status.idle": "2022-07-27T03:03:01.010584Z",
     "shell.execute_reply": "2022-07-27T03:03:01.009371Z"
    },
    "papermill": {
     "duration": 0.030971,
     "end_time": "2022-07-27T03:03:01.012801",
     "exception": false,
     "start_time": "2022-07-27T03:03:00.981830",
     "status": "completed"
    },
    "tags": []
   },
   "outputs": [],
   "source": [
    "X=data_encoded.drop(['Exited'], axis=1)\n",
    "y=data_encoded['Exited']"
   ]
  },
  {
   "cell_type": "code",
   "execution_count": 12,
   "id": "cc9af3b8",
   "metadata": {
    "execution": {
     "iopub.execute_input": "2022-07-27T03:03:01.055111Z",
     "iopub.status.busy": "2022-07-27T03:03:01.054244Z",
     "iopub.status.idle": "2022-07-27T03:03:01.064017Z",
     "shell.execute_reply": "2022-07-27T03:03:01.063092Z"
    },
    "papermill": {
     "duration": 0.033723,
     "end_time": "2022-07-27T03:03:01.066490",
     "exception": false,
     "start_time": "2022-07-27T03:03:01.032767",
     "status": "completed"
    },
    "tags": []
   },
   "outputs": [],
   "source": [
    "#Performing train test split\n",
    "X_train,X_test, y_train, y_test= train_test_split(X,y,test_size=0.3, random_state=0)"
   ]
  },
  {
   "cell_type": "code",
   "execution_count": 13,
   "id": "ea54e5bc",
   "metadata": {
    "execution": {
     "iopub.execute_input": "2022-07-27T03:03:01.108838Z",
     "iopub.status.busy": "2022-07-27T03:03:01.108076Z",
     "iopub.status.idle": "2022-07-27T03:03:01.121555Z",
     "shell.execute_reply": "2022-07-27T03:03:01.120551Z"
    },
    "papermill": {
     "duration": 0.037591,
     "end_time": "2022-07-27T03:03:01.124171",
     "exception": false,
     "start_time": "2022-07-27T03:03:01.086580",
     "status": "completed"
    },
    "tags": []
   },
   "outputs": [],
   "source": [
    "scaler=StandardScaler()\n",
    "X_train=scaler.fit_transform(X_train)\n",
    "X_test = scaler.transform(X_test)"
   ]
  },
  {
   "cell_type": "code",
   "execution_count": 14,
   "id": "135797d3",
   "metadata": {
    "execution": {
     "iopub.execute_input": "2022-07-27T03:03:01.166222Z",
     "iopub.status.busy": "2022-07-27T03:03:01.165441Z",
     "iopub.status.idle": "2022-07-27T03:03:01.197225Z",
     "shell.execute_reply": "2022-07-27T03:03:01.195880Z"
    },
    "papermill": {
     "duration": 0.056867,
     "end_time": "2022-07-27T03:03:01.201020",
     "exception": false,
     "start_time": "2022-07-27T03:03:01.144153",
     "status": "completed"
    },
    "tags": []
   },
   "outputs": [
    {
     "data": {
      "text/plain": [
       "LogisticRegression()"
      ]
     },
     "execution_count": 14,
     "metadata": {},
     "output_type": "execute_result"
    }
   ],
   "source": [
    "lr=LogisticRegression()\n",
    "lr.fit(X_train,y_train)"
   ]
  },
  {
   "cell_type": "code",
   "execution_count": 15,
   "id": "bd57f046",
   "metadata": {
    "execution": {
     "iopub.execute_input": "2022-07-27T03:03:01.279270Z",
     "iopub.status.busy": "2022-07-27T03:03:01.278594Z",
     "iopub.status.idle": "2022-07-27T03:03:01.288375Z",
     "shell.execute_reply": "2022-07-27T03:03:01.287182Z"
    },
    "papermill": {
     "duration": 0.052833,
     "end_time": "2022-07-27T03:03:01.291824",
     "exception": false,
     "start_time": "2022-07-27T03:03:01.238991",
     "status": "completed"
    },
    "tags": []
   },
   "outputs": [
    {
     "data": {
      "text/plain": [
       "array([[-0.09204094,  0.2641425 ,  0.74200445, -0.08328135,  0.15907678,\n",
       "        -0.10809898, -0.01466387, -0.49803297,  0.03638749, -0.13651601,\n",
       "         0.23457017, -0.07569012]])"
      ]
     },
     "execution_count": 15,
     "metadata": {},
     "output_type": "execute_result"
    }
   ],
   "source": [
    "w=lr.coef_\n",
    "w\n"
   ]
  },
  {
   "cell_type": "code",
   "execution_count": 16,
   "id": "6be4bb42",
   "metadata": {
    "execution": {
     "iopub.execute_input": "2022-07-27T03:03:01.342396Z",
     "iopub.status.busy": "2022-07-27T03:03:01.342008Z",
     "iopub.status.idle": "2022-07-27T03:03:01.348157Z",
     "shell.execute_reply": "2022-07-27T03:03:01.347313Z"
    },
    "papermill": {
     "duration": 0.030172,
     "end_time": "2022-07-27T03:03:01.350340",
     "exception": false,
     "start_time": "2022-07-27T03:03:01.320168",
     "status": "completed"
    },
    "tags": []
   },
   "outputs": [
    {
     "data": {
      "text/plain": [
       "Index(['CreditScore', 'Gender', 'Age', 'Tenure', 'Balance', 'NumOfProducts',\n",
       "       'HasCrCard', 'IsActiveMember', 'EstimatedSalary', 'Geography_France',\n",
       "       'Geography_Germany', 'Geography_Spain'],\n",
       "      dtype='object')"
      ]
     },
     "execution_count": 16,
     "metadata": {},
     "output_type": "execute_result"
    }
   ],
   "source": [
    "X.columns"
   ]
  },
  {
   "cell_type": "markdown",
   "id": "5f97894a",
   "metadata": {
    "papermill": {
     "duration": 0.020329,
     "end_time": "2022-07-27T03:03:01.391286",
     "exception": false,
     "start_time": "2022-07-27T03:03:01.370957",
     "status": "completed"
    },
    "tags": []
   },
   "source": [
    "In order to interpret these weights in terms of feature importance, there should not be any multicollinearity in the data. We will conduct a perturbation test for checking the multicollinearity."
   ]
  },
  {
   "cell_type": "markdown",
   "id": "01e26542",
   "metadata": {
    "papermill": {
     "duration": 0.020534,
     "end_time": "2022-07-27T03:03:01.432997",
     "exception": false,
     "start_time": "2022-07-27T03:03:01.412463",
     "status": "completed"
    },
    "tags": []
   },
   "source": [
    "# Perturbation Test"
   ]
  },
  {
   "cell_type": "code",
   "execution_count": 17,
   "id": "3b466fd2",
   "metadata": {
    "execution": {
     "iopub.execute_input": "2022-07-27T03:03:01.476313Z",
     "iopub.status.busy": "2022-07-27T03:03:01.475592Z",
     "iopub.status.idle": "2022-07-27T03:03:01.480742Z",
     "shell.execute_reply": "2022-07-27T03:03:01.479868Z"
    },
    "papermill": {
     "duration": 0.029427,
     "end_time": "2022-07-27T03:03:01.483085",
     "exception": false,
     "start_time": "2022-07-27T03:03:01.453658",
     "status": "completed"
    },
    "tags": []
   },
   "outputs": [],
   "source": [
    "#Adding a noise to the data and retraining the model:\n",
    "epsilon= 0.00005\n",
    "X_new=X_train+epsilon"
   ]
  },
  {
   "cell_type": "code",
   "execution_count": 18,
   "id": "f503cd6e",
   "metadata": {
    "execution": {
     "iopub.execute_input": "2022-07-27T03:03:01.527225Z",
     "iopub.status.busy": "2022-07-27T03:03:01.525942Z",
     "iopub.status.idle": "2022-07-27T03:03:01.553913Z",
     "shell.execute_reply": "2022-07-27T03:03:01.552544Z"
    },
    "papermill": {
     "duration": 0.054251,
     "end_time": "2022-07-27T03:03:01.557803",
     "exception": false,
     "start_time": "2022-07-27T03:03:01.503552",
     "status": "completed"
    },
    "tags": []
   },
   "outputs": [
    {
     "data": {
      "text/plain": [
       "array([[-0.09204095,  0.26414249,  0.74200449, -0.08328136,  0.15907644,\n",
       "        -0.10809916, -0.0146639 , -0.49803306,  0.03638749, -0.13660607,\n",
       "         0.23449284, -0.07576787]])"
      ]
     },
     "execution_count": 18,
     "metadata": {},
     "output_type": "execute_result"
    }
   ],
   "source": [
    "#Retraining the model\n",
    "lr_perturb=LogisticRegression()\n",
    "lr_perturb.fit(X_new,y_train)\n",
    "\n",
    "w_perturb=lr_perturb.coef_\n",
    "w_perturb\n"
   ]
  },
  {
   "cell_type": "code",
   "execution_count": 19,
   "id": "2a878719",
   "metadata": {
    "execution": {
     "iopub.execute_input": "2022-07-27T03:03:01.635254Z",
     "iopub.status.busy": "2022-07-27T03:03:01.634642Z",
     "iopub.status.idle": "2022-07-27T03:03:01.641212Z",
     "shell.execute_reply": "2022-07-27T03:03:01.639843Z"
    },
    "papermill": {
     "duration": 0.049286,
     "end_time": "2022-07-27T03:03:01.644564",
     "exception": false,
     "start_time": "2022-07-27T03:03:01.595278",
     "status": "completed"
    },
    "tags": []
   },
   "outputs": [],
   "source": [
    "#Adding a small number to avoid zero division:\n",
    "w_perturb=w_perturb+0.000001"
   ]
  },
  {
   "cell_type": "code",
   "execution_count": 20,
   "id": "433a55d8",
   "metadata": {
    "execution": {
     "iopub.execute_input": "2022-07-27T03:03:01.697780Z",
     "iopub.status.busy": "2022-07-27T03:03:01.697370Z",
     "iopub.status.idle": "2022-07-27T03:03:01.704567Z",
     "shell.execute_reply": "2022-07-27T03:03:01.703447Z"
    },
    "papermill": {
     "duration": 0.031257,
     "end_time": "2022-07-27T03:03:01.706834",
     "exception": false,
     "start_time": "2022-07-27T03:03:01.675577",
     "status": "completed"
    },
    "tags": []
   },
   "outputs": [
    {
     "data": {
      "text/plain": [
       "array([[ 0.00108272, -0.00037489, -0.0001408 ,  0.00118938, -0.00041255,\n",
       "         0.00075894,  0.00664735,  0.00018236, -0.00274113, -0.06523519,\n",
       "         0.03254101, -0.10139959]])"
      ]
     },
     "execution_count": 20,
     "metadata": {},
     "output_type": "execute_result"
    }
   ],
   "source": [
    "# % change\n",
    "per_change=((w-w_perturb)/w)*100\n",
    "per_change"
   ]
  },
  {
   "cell_type": "markdown",
   "id": "890042fd",
   "metadata": {
    "papermill": {
     "duration": 0.020133,
     "end_time": "2022-07-27T03:03:01.747459",
     "exception": false,
     "start_time": "2022-07-27T03:03:01.727326",
     "status": "completed"
    },
    "tags": []
   },
   "source": [
    "As the last 3 columns, although have a low value but relatively high change. These columns are Geo_France, Geo_Germany and Geo_Spain, we can drop 1 out of them to avoid any redundancy in our data. Hence, dropping the one with the highest change i.e. Geo_Spain."
   ]
  },
  {
   "cell_type": "code",
   "execution_count": 21,
   "id": "a75ee705",
   "metadata": {
    "execution": {
     "iopub.execute_input": "2022-07-27T03:03:01.790936Z",
     "iopub.status.busy": "2022-07-27T03:03:01.790130Z",
     "iopub.status.idle": "2022-07-27T03:03:01.797144Z",
     "shell.execute_reply": "2022-07-27T03:03:01.796300Z"
    },
    "papermill": {
     "duration": 0.031383,
     "end_time": "2022-07-27T03:03:01.799365",
     "exception": false,
     "start_time": "2022-07-27T03:03:01.767982",
     "status": "completed"
    },
    "tags": []
   },
   "outputs": [
    {
     "data": {
      "text/plain": [
       "(7000, 11)"
      ]
     },
     "execution_count": 21,
     "metadata": {},
     "output_type": "execute_result"
    }
   ],
   "source": [
    "X_train_new= X_train[:,:-1]\n",
    "X_train_new.shape"
   ]
  },
  {
   "cell_type": "markdown",
   "id": "ab17138e",
   "metadata": {
    "papermill": {
     "duration": 0.020631,
     "end_time": "2022-07-27T03:03:01.840817",
     "exception": false,
     "start_time": "2022-07-27T03:03:01.820186",
     "status": "completed"
    },
    "tags": []
   },
   "source": [
    "Checking for multicollinearity again"
   ]
  },
  {
   "cell_type": "code",
   "execution_count": 22,
   "id": "0b5e00f1",
   "metadata": {
    "execution": {
     "iopub.execute_input": "2022-07-27T03:03:01.885419Z",
     "iopub.status.busy": "2022-07-27T03:03:01.884269Z",
     "iopub.status.idle": "2022-07-27T03:03:01.910386Z",
     "shell.execute_reply": "2022-07-27T03:03:01.909104Z"
    },
    "papermill": {
     "duration": 0.052483,
     "end_time": "2022-07-27T03:03:01.914058",
     "exception": false,
     "start_time": "2022-07-27T03:03:01.861575",
     "status": "completed"
    },
    "tags": []
   },
   "outputs": [
    {
     "data": {
      "text/plain": [
       "array([[-0.09204914,  0.26415302,  0.7419781 , -0.08327592,  0.15915437,\n",
       "        -0.10806716, -0.01465347, -0.49802411,  0.03638854, -0.04904224,\n",
       "         0.30981432]])"
      ]
     },
     "execution_count": 22,
     "metadata": {},
     "output_type": "execute_result"
    }
   ],
   "source": [
    "lr_2=LogisticRegression()\n",
    "lr_2.fit(X_train_new,y_train)\n",
    "w2=lr_2.coef_\n",
    "w2"
   ]
  },
  {
   "cell_type": "code",
   "execution_count": 23,
   "id": "9ef823f0",
   "metadata": {
    "execution": {
     "iopub.execute_input": "2022-07-27T03:03:01.994751Z",
     "iopub.status.busy": "2022-07-27T03:03:01.994035Z",
     "iopub.status.idle": "2022-07-27T03:03:02.030798Z",
     "shell.execute_reply": "2022-07-27T03:03:02.029459Z"
    },
    "papermill": {
     "duration": 0.081999,
     "end_time": "2022-07-27T03:03:02.035255",
     "exception": false,
     "start_time": "2022-07-27T03:03:01.953256",
     "status": "completed"
    },
    "tags": []
   },
   "outputs": [
    {
     "data": {
      "text/plain": [
       "array([[-0.09204921,  0.2641532 ,  0.74197775, -0.08327591,  0.15915424,\n",
       "        -0.10806692, -0.0146534 , -0.49802426,  0.03638859, -0.04904233,\n",
       "         0.30981449]])"
      ]
     },
     "execution_count": 23,
     "metadata": {},
     "output_type": "execute_result"
    }
   ],
   "source": [
    "#Perturbing by adding an epsilon to X_train_new\n",
    "X_pert_2=X_train_new+0.00005\n",
    "lr_pert_2=LogisticRegression()\n",
    "lr_pert_2.fit(X_pert_2,y_train)\n",
    "w_pert=lr_pert_2.coef_\n",
    "w_pert"
   ]
  },
  {
   "cell_type": "code",
   "execution_count": 24,
   "id": "3c707c03",
   "metadata": {
    "execution": {
     "iopub.execute_input": "2022-07-27T03:03:02.115325Z",
     "iopub.status.busy": "2022-07-27T03:03:02.114719Z",
     "iopub.status.idle": "2022-07-27T03:03:02.121022Z",
     "shell.execute_reply": "2022-07-27T03:03:02.119706Z"
    },
    "papermill": {
     "duration": 0.053296,
     "end_time": "2022-07-27T03:03:02.127604",
     "exception": false,
     "start_time": "2022-07-27T03:03:02.074308",
     "status": "completed"
    },
    "tags": []
   },
   "outputs": [],
   "source": [
    "#Adding small number to avoid zero division\n",
    "w_pert = w_pert+0.0000001\n"
   ]
  },
  {
   "cell_type": "code",
   "execution_count": 25,
   "id": "e8e5addc",
   "metadata": {
    "execution": {
     "iopub.execute_input": "2022-07-27T03:03:02.177644Z",
     "iopub.status.busy": "2022-07-27T03:03:02.177229Z",
     "iopub.status.idle": "2022-07-27T03:03:02.184941Z",
     "shell.execute_reply": "2022-07-27T03:03:02.183854Z"
    },
    "papermill": {
     "duration": 0.032216,
     "end_time": "2022-07-27T03:03:02.187177",
     "exception": false,
     "start_time": "2022-07-27T03:03:02.154961",
     "status": "completed"
    },
    "tags": []
   },
   "outputs": [
    {
     "data": {
      "text/plain": [
       "array([[ 3.70127939e-05, -1.08485266e-04,  3.36662941e-05,\n",
       "         1.41330515e-04,  1.82388224e-05,  3.15164944e-04,\n",
       "         1.17671686e-03, -9.27785939e-06, -4.12184902e-04,\n",
       "         1.13822413e-05, -8.83149341e-05]])"
      ]
     },
     "execution_count": 25,
     "metadata": {},
     "output_type": "execute_result"
    }
   ],
   "source": [
    "# Calculating % change\n",
    "change= ((w2-w_pert)/w2)*100\n",
    "change"
   ]
  },
  {
   "cell_type": "markdown",
   "id": "c643a88e",
   "metadata": {
    "papermill": {
     "duration": 0.02165,
     "end_time": "2022-07-27T03:03:02.230430",
     "exception": false,
     "start_time": "2022-07-27T03:03:02.208780",
     "status": "completed"
    },
    "tags": []
   },
   "source": [
    "**This percentage change is very small, hence it implies that there is no multicollinearity now.**"
   ]
  },
  {
   "cell_type": "markdown",
   "id": "949d5035",
   "metadata": {
    "papermill": {
     "duration": 0.02075,
     "end_time": "2022-07-27T03:03:02.273411",
     "exception": false,
     "start_time": "2022-07-27T03:03:02.252661",
     "status": "completed"
    },
    "tags": []
   },
   "source": [
    "# Interpreting Feature Importance"
   ]
  },
  {
   "cell_type": "code",
   "execution_count": 26,
   "id": "8edea00b",
   "metadata": {
    "execution": {
     "iopub.execute_input": "2022-07-27T03:03:02.317798Z",
     "iopub.status.busy": "2022-07-27T03:03:02.317090Z",
     "iopub.status.idle": "2022-07-27T03:03:02.324903Z",
     "shell.execute_reply": "2022-07-27T03:03:02.323719Z"
    },
    "papermill": {
     "duration": 0.032979,
     "end_time": "2022-07-27T03:03:02.327532",
     "exception": false,
     "start_time": "2022-07-27T03:03:02.294553",
     "status": "completed"
    },
    "tags": []
   },
   "outputs": [
    {
     "data": {
      "text/plain": [
       "{'CreditScore': 0.092,\n",
       " 'Gender': 0.264,\n",
       " 'Age': 0.742,\n",
       " 'Tenure': 0.083,\n",
       " 'Balance': 0.159,\n",
       " 'NumOfProducts': 0.108,\n",
       " 'HasCrCard': 0.015,\n",
       " 'IsActiveMember': 0.498,\n",
       " 'EstimatedSalary': 0.036,\n",
       " 'Geography_France': 0.049,\n",
       " 'Geography_Germany': 0.31}"
      ]
     },
     "execution_count": 26,
     "metadata": {},
     "output_type": "execute_result"
    }
   ],
   "source": [
    "dict(zip(X.columns, np.abs(w2[0].round(3))))"
   ]
  },
  {
   "cell_type": "markdown",
   "id": "c5ff3d8d",
   "metadata": {
    "papermill": {
     "duration": 0.020908,
     "end_time": "2022-07-27T03:03:02.370441",
     "exception": false,
     "start_time": "2022-07-27T03:03:02.349533",
     "status": "completed"
    },
    "tags": []
   },
   "source": [
    "**Hence, as per the feature importance: 'Age','IsActiveMember','Geography_Germany','Gender' and 'Balance' are the most important feature which would help the bank decided whether a given customer would churn or not!**"
   ]
  },
  {
   "cell_type": "markdown",
   "id": "4902c301",
   "metadata": {
    "papermill": {
     "duration": 0.02107,
     "end_time": "2022-07-27T03:03:02.412906",
     "exception": false,
     "start_time": "2022-07-27T03:03:02.391836",
     "status": "completed"
    },
    "tags": []
   },
   "source": [
    "# Performance Metrics"
   ]
  },
  {
   "cell_type": "code",
   "execution_count": 27,
   "id": "71918c32",
   "metadata": {
    "execution": {
     "iopub.execute_input": "2022-07-27T03:03:02.457721Z",
     "iopub.status.busy": "2022-07-27T03:03:02.456917Z",
     "iopub.status.idle": "2022-07-27T03:03:02.469578Z",
     "shell.execute_reply": "2022-07-27T03:03:02.468193Z"
    },
    "papermill": {
     "duration": 0.039409,
     "end_time": "2022-07-27T03:03:02.473391",
     "exception": false,
     "start_time": "2022-07-27T03:03:02.433982",
     "status": "completed"
    },
    "tags": []
   },
   "outputs": [
    {
     "data": {
      "text/plain": [
       "array([0, 0, 0, ..., 0, 0, 0])"
      ]
     },
     "execution_count": 27,
     "metadata": {},
     "output_type": "execute_result"
    }
   ],
   "source": [
    "X_test_new= X_test[:,:-1]\n",
    "lr_2.predict(X_test_new)"
   ]
  },
  {
   "cell_type": "code",
   "execution_count": 28,
   "id": "dc0c8cf8",
   "metadata": {
    "execution": {
     "iopub.execute_input": "2022-07-27T03:03:02.554634Z",
     "iopub.status.busy": "2022-07-27T03:03:02.553998Z",
     "iopub.status.idle": "2022-07-27T03:03:02.568319Z",
     "shell.execute_reply": "2022-07-27T03:03:02.567018Z"
    },
    "papermill": {
     "duration": 0.059448,
     "end_time": "2022-07-27T03:03:02.571929",
     "exception": false,
     "start_time": "2022-07-27T03:03:02.512481",
     "status": "completed"
    },
    "tags": []
   },
   "outputs": [
    {
     "data": {
      "text/plain": [
       "array([[0.78105505, 0.21894495],\n",
       "       [0.64721188, 0.35278812],\n",
       "       [0.85349726, 0.14650274],\n",
       "       ...,\n",
       "       [0.90764493, 0.09235507],\n",
       "       [0.59081574, 0.40918426],\n",
       "       [0.62148186, 0.37851814]])"
      ]
     },
     "execution_count": 28,
     "metadata": {},
     "output_type": "execute_result"
    }
   ],
   "source": [
    "#Predict probability scores\n",
    "lr_2.predict_proba(X_test_new)\n",
    "#This gives 2 columns, prob(y=0), prob(y=1)"
   ]
  },
  {
   "cell_type": "markdown",
   "id": "bd2f6ce3",
   "metadata": {
    "papermill": {
     "duration": 0.039325,
     "end_time": "2022-07-27T03:03:02.651031",
     "exception": false,
     "start_time": "2022-07-27T03:03:02.611706",
     "status": "completed"
    },
    "tags": []
   },
   "source": [
    "**Accuracy**\n",
    "Accuracy= #classified correctly/#Total\n",
    "However, accuracy is not a preferred method whenever we have an imbalanced dataset, as even a dumb model can have a high accuracy.\n",
    "Accuracies also does not capture the probabilistic point of view. As, even a less confident model can have the same accuracy as that of a highly confident model."
   ]
  },
  {
   "cell_type": "markdown",
   "id": "3e3f937e",
   "metadata": {
    "papermill": {
     "duration": 0.021221,
     "end_time": "2022-07-27T03:03:02.707070",
     "exception": false,
     "start_time": "2022-07-27T03:03:02.685849",
     "status": "completed"
    },
    "tags": []
   },
   "source": [
    "# Hyperparameter Tuning"
   ]
  },
  {
   "cell_type": "code",
   "execution_count": 29,
   "id": "5d74c23c",
   "metadata": {
    "execution": {
     "iopub.execute_input": "2022-07-27T03:03:02.752562Z",
     "iopub.status.busy": "2022-07-27T03:03:02.752169Z",
     "iopub.status.idle": "2022-07-27T03:03:02.756962Z",
     "shell.execute_reply": "2022-07-27T03:03:02.756121Z"
    },
    "papermill": {
     "duration": 0.029943,
     "end_time": "2022-07-27T03:03:02.758889",
     "exception": false,
     "start_time": "2022-07-27T03:03:02.728946",
     "status": "completed"
    },
    "tags": []
   },
   "outputs": [],
   "source": [
    "from sklearn.metrics import roc_auc_score, log_loss, roc_curve, auc"
   ]
  },
  {
   "cell_type": "markdown",
   "id": "dd2db2ee",
   "metadata": {
    "papermill": {
     "duration": 0.021438,
     "end_time": "2022-07-27T03:03:02.801790",
     "exception": false,
     "start_time": "2022-07-27T03:03:02.780352",
     "status": "completed"
    },
    "tags": []
   },
   "source": [
    "Tuning"
   ]
  },
  {
   "cell_type": "code",
   "execution_count": 30,
   "id": "589aed0d",
   "metadata": {
    "execution": {
     "iopub.execute_input": "2022-07-27T03:03:02.847637Z",
     "iopub.status.busy": "2022-07-27T03:03:02.846906Z",
     "iopub.status.idle": "2022-07-27T03:03:03.099320Z",
     "shell.execute_reply": "2022-07-27T03:03:03.097978Z"
    },
    "papermill": {
     "duration": 0.279543,
     "end_time": "2022-07-27T03:03:03.103006",
     "exception": false,
     "start_time": "2022-07-27T03:03:02.823463",
     "status": "completed"
    },
    "tags": []
   },
   "outputs": [],
   "source": [
    "C=[0.001, 0.005, 0.01, 0.05, 0.1,1,10,100] #inverse of regularization strength\n",
    "\n",
    "train_auc=[]\n",
    "test_auc=[]\n",
    "\n",
    "train_logloss=[]\n",
    "test_logloss=[]\n",
    "\n",
    "for i in C:\n",
    "    model= LogisticRegression(penalty='l2', C=i, solver='liblinear')\n",
    "    model.fit(X_train_new, y_train)\n",
    "    y_train_pred= model.predict(X_train_new)\n",
    "    y_test_pred= model.predict(X_test_new)\n",
    "    \n",
    "    train_auc.append(roc_auc_score(y_train,y_train_pred))\n",
    "    test_auc.append(roc_auc_score(y_test,y_test_pred))\n",
    "    \n",
    "    train_logloss.append(log_loss(y_train,y_train_pred))\n",
    "    test_logloss.append(log_loss(y_test,y_test_pred))"
   ]
  },
  {
   "cell_type": "markdown",
   "id": "6d3e4973",
   "metadata": {
    "papermill": {
     "duration": 0.038867,
     "end_time": "2022-07-27T03:03:03.180696",
     "exception": false,
     "start_time": "2022-07-27T03:03:03.141829",
     "status": "completed"
    },
    "tags": []
   },
   "source": [
    "Plotting AUC for train and test"
   ]
  },
  {
   "cell_type": "code",
   "execution_count": 31,
   "id": "e905a036",
   "metadata": {
    "execution": {
     "iopub.execute_input": "2022-07-27T03:03:03.236686Z",
     "iopub.status.busy": "2022-07-27T03:03:03.236307Z",
     "iopub.status.idle": "2022-07-27T03:03:03.484742Z",
     "shell.execute_reply": "2022-07-27T03:03:03.483569Z"
    },
    "papermill": {
     "duration": 0.273822,
     "end_time": "2022-07-27T03:03:03.487144",
     "exception": false,
     "start_time": "2022-07-27T03:03:03.213322",
     "status": "completed"
    },
    "tags": []
   },
   "outputs": [
    {
     "data": {
      "image/png": "[encoded data removed]",
      "text/plain": [
       "<Figure size 432x288 with 1 Axes>"
      ]
     },
     "metadata": {
      "needs_background": "light"
     },
     "output_type": "display_data"
    }
   ],
   "source": [
    "plt.grid(True)\n",
    "plt.plot(np.log(C), train_auc, label='Train AUC')\n",
    "plt.plot(np.log(C), test_auc, label='Test AUC')\n",
    "plt.scatter(np.log(C), train_auc)\n",
    "plt.scatter(np.log(C), test_auc)\n",
    "plt.legend()\n",
    "plt.xlabel('Hyperparameter:C')\n",
    "plt.ylabel('AUC')\n",
    "plt.title('Error Plots')\n",
    "plt.show()\n"
   ]
  },
  {
   "cell_type": "code",
   "execution_count": 32,
   "id": "471eab67",
   "metadata": {
    "execution": {
     "iopub.execute_input": "2022-07-27T03:03:03.533161Z",
     "iopub.status.busy": "2022-07-27T03:03:03.531964Z",
     "iopub.status.idle": "2022-07-27T03:03:03.775733Z",
     "shell.execute_reply": "2022-07-27T03:03:03.774918Z"
    },
    "papermill": {
     "duration": 0.268965,
     "end_time": "2022-07-27T03:03:03.777830",
     "exception": false,
     "start_time": "2022-07-27T03:03:03.508865",
     "status": "completed"
    },
    "tags": []
   },
   "outputs": [
    {
     "data": {
      "image/png": "[encoded data removed]",
      "text/plain": [
       "<Figure size 432x288 with 1 Axes>"
      ]
     },
     "metadata": {
      "needs_background": "light"
     },
     "output_type": "display_data"
    }
   ],
   "source": [
    "plt.grid(True)\n",
    "plt.plot(np.log(C), train_logloss, label='Train Log-Loss')\n",
    "plt.plot(np.log(C), test_logloss, label='Test Log-Loss')\n",
    "plt.scatter(np.log(C), train_logloss)\n",
    "plt.scatter(np.log(C), test_logloss)\n",
    "plt.legend()\n",
    "plt.xlabel('Hyperparameter:C')\n",
    "plt.ylabel('Log-Loss')\n",
    "plt.title('Error Plots')\n",
    "plt.show()"
   ]
  },
  {
   "cell_type": "markdown",
   "id": "9e660df7",
   "metadata": {
    "papermill": {
     "duration": 0.022804,
     "end_time": "2022-07-27T03:03:03.822700",
     "exception": false,
     "start_time": "2022-07-27T03:03:03.799896",
     "status": "completed"
    },
    "tags": []
   },
   "source": [
    "We choose C=0.005"
   ]
  },
  {
   "cell_type": "code",
   "execution_count": 33,
   "id": "5dee9a22",
   "metadata": {
    "execution": {
     "iopub.execute_input": "2022-07-27T03:03:03.869715Z",
     "iopub.status.busy": "2022-07-27T03:03:03.869019Z",
     "iopub.status.idle": "2022-07-27T03:03:04.122608Z",
     "shell.execute_reply": "2022-07-27T03:03:04.121439Z"
    },
    "papermill": {
     "duration": 0.280066,
     "end_time": "2022-07-27T03:03:04.125313",
     "exception": false,
     "start_time": "2022-07-27T03:03:03.845247",
     "status": "completed"
    },
    "tags": []
   },
   "outputs": [
    {
     "data": {
      "image/png": "[encoded data removed]",
      "text/plain": [
       "<Figure size 432x288 with 1 Axes>"
      ]
     },
     "metadata": {
      "needs_background": "light"
     },
     "output_type": "display_data"
    }
   ],
   "source": [
    "model= LogisticRegression(penalty='l2', C=0.005, solver='liblinear')\n",
    "model.fit(X_train_new, y_train)\n",
    "y_train_pred= model.predict(X_train_new)\n",
    "y_test_pred= model.predict(X_test_new)\n",
    "train_fpr, train_tpr, thresholds= roc_curve(y_train,model.predict_proba(X_train_new)[:,1])\n",
    "test_fpr, test_tpr, thresholds= roc_curve(y_test,model.predict_proba(X_test_new)[:,1])\n",
    "\n",
    "plt.grid(True)\n",
    "plt.plot(train_fpr, train_tpr, label='train AUC='+str(auc(train_fpr,train_tpr).round(3)))\n",
    "plt.plot(test_fpr, test_tpr, label='test AUC='+str(auc(test_fpr,test_tpr).round(3)))\n",
    "plt.legend()\n",
    "plt.xlabel('fpr')\n",
    "plt.ylabel('tpr')\n",
    "plt.title('ROC Curve for optimal K')\n",
    "plt.show()"
   ]
  },
  {
   "cell_type": "markdown",
   "id": "5e168414",
   "metadata": {
    "papermill": {
     "duration": 0.022615,
     "end_time": "2022-07-27T03:03:04.170757",
     "exception": false,
     "start_time": "2022-07-27T03:03:04.148142",
     "status": "completed"
    },
    "tags": []
   },
   "source": [
    "# Performance Metrics"
   ]
  },
  {
   "cell_type": "code",
   "execution_count": 34,
   "id": "5efa0b61",
   "metadata": {
    "execution": {
     "iopub.execute_input": "2022-07-27T03:03:04.218958Z",
     "iopub.status.busy": "2022-07-27T03:03:04.218218Z",
     "iopub.status.idle": "2022-07-27T03:03:04.231378Z",
     "shell.execute_reply": "2022-07-27T03:03:04.230013Z"
    },
    "papermill": {
     "duration": 0.043709,
     "end_time": "2022-07-27T03:03:04.237597",
     "exception": false,
     "start_time": "2022-07-27T03:03:04.193888",
     "status": "completed"
    },
    "tags": []
   },
   "outputs": [
    {
     "name": "stdout",
     "output_type": "stream",
     "text": [
      "Predictions:  [0 0 0 0 0 1 0 0 0 1]\n",
      "           p-0       p-1\n",
      "0     0.719871  0.280129\n",
      "1     0.640032  0.359968\n",
      "2     0.788934  0.211066\n",
      "3     0.830523  0.169477\n",
      "4     0.785972  0.214028\n",
      "...        ...       ...\n",
      "2995  0.808818  0.191182\n",
      "2996  0.521619  0.478381\n",
      "2997  0.852999  0.147001\n",
      "2998  0.581157  0.418843\n",
      "2999  0.593831  0.406169\n",
      "\n",
      "[3000 rows x 2 columns]\n"
     ]
    }
   ],
   "source": [
    "y_probs=model.predict_proba(X_test_new)\n",
    "df_proba=pd.DataFrame(y_probs, columns=['p-0','p-1'])\n",
    "print(\"Predictions: \", y_test_pred[:10])\n",
    "print(df_proba)"
   ]
  },
  {
   "cell_type": "markdown",
   "id": "d3550a3b",
   "metadata": {
    "papermill": {
     "duration": 0.041925,
     "end_time": "2022-07-27T03:03:04.323022",
     "exception": false,
     "start_time": "2022-07-27T03:03:04.281097",
     "status": "completed"
    },
    "tags": []
   },
   "source": [
    "**1.Accuracy**"
   ]
  },
  {
   "cell_type": "code",
   "execution_count": 35,
   "id": "a82ab945",
   "metadata": {
    "execution": {
     "iopub.execute_input": "2022-07-27T03:03:04.379964Z",
     "iopub.status.busy": "2022-07-27T03:03:04.379558Z",
     "iopub.status.idle": "2022-07-27T03:03:04.384373Z",
     "shell.execute_reply": "2022-07-27T03:03:04.383550Z"
    },
    "papermill": {
     "duration": 0.031254,
     "end_time": "2022-07-27T03:03:04.386705",
     "exception": false,
     "start_time": "2022-07-27T03:03:04.355451",
     "status": "completed"
    },
    "tags": []
   },
   "outputs": [],
   "source": [
    "from sklearn.metrics import accuracy_score, confusion_matrix, precision_recall_curve"
   ]
  },
  {
   "cell_type": "code",
   "execution_count": 36,
   "id": "d06892ba",
   "metadata": {
    "execution": {
     "iopub.execute_input": "2022-07-27T03:03:04.434665Z",
     "iopub.status.busy": "2022-07-27T03:03:04.433734Z",
     "iopub.status.idle": "2022-07-27T03:03:04.441787Z",
     "shell.execute_reply": "2022-07-27T03:03:04.440387Z"
    },
    "papermill": {
     "duration": 0.034151,
     "end_time": "2022-07-27T03:03:04.444070",
     "exception": false,
     "start_time": "2022-07-27T03:03:04.409919",
     "status": "completed"
    },
    "tags": []
   },
   "outputs": [
    {
     "name": "stdout",
     "output_type": "stream",
     "text": [
      "0.808\n"
     ]
    }
   ],
   "source": [
    "#Testing the performance of our logistic regression model\n",
    "accuracy= accuracy_score(y_test,y_test_pred)\n",
    "print(accuracy.round(3))"
   ]
  },
  {
   "cell_type": "markdown",
   "id": "bdb5a3e8",
   "metadata": {
    "papermill": {
     "duration": 0.022412,
     "end_time": "2022-07-27T03:03:04.490126",
     "exception": false,
     "start_time": "2022-07-27T03:03:04.467714",
     "status": "completed"
    },
    "tags": []
   },
   "source": [
    "**2. Confusion Matrix**"
   ]
  },
  {
   "cell_type": "code",
   "execution_count": 37,
   "id": "58b36898",
   "metadata": {
    "execution": {
     "iopub.execute_input": "2022-07-27T03:03:04.538389Z",
     "iopub.status.busy": "2022-07-27T03:03:04.537153Z",
     "iopub.status.idle": "2022-07-27T03:03:04.547634Z",
     "shell.execute_reply": "2022-07-27T03:03:04.545869Z"
    },
    "papermill": {
     "duration": 0.038256,
     "end_time": "2022-07-27T03:03:04.550894",
     "exception": false,
     "start_time": "2022-07-27T03:03:04.512638",
     "status": "completed"
    },
    "tags": []
   },
   "outputs": [
    {
     "name": "stdout",
     "output_type": "stream",
     "text": [
      "[[2299   80]\n",
      " [ 496  125]]\n"
     ]
    }
   ],
   "source": [
    "results=confusion_matrix(y_test, y_test_pred)\n",
    "print(results)"
   ]
  },
  {
   "cell_type": "markdown",
   "id": "4549e8fd",
   "metadata": {
    "papermill": {
     "duration": 0.022981,
     "end_time": "2022-07-27T03:03:04.596971",
     "exception": false,
     "start_time": "2022-07-27T03:03:04.573990",
     "status": "completed"
    },
    "tags": []
   },
   "source": [
    "**Full Classification report**"
   ]
  },
  {
   "cell_type": "code",
   "execution_count": 38,
   "id": "48684e05",
   "metadata": {
    "execution": {
     "iopub.execute_input": "2022-07-27T03:03:04.644903Z",
     "iopub.status.busy": "2022-07-27T03:03:04.644127Z",
     "iopub.status.idle": "2022-07-27T03:03:04.659697Z",
     "shell.execute_reply": "2022-07-27T03:03:04.657717Z"
    },
    "papermill": {
     "duration": 0.043563,
     "end_time": "2022-07-27T03:03:04.663266",
     "exception": false,
     "start_time": "2022-07-27T03:03:04.619703",
     "status": "completed"
    },
    "tags": []
   },
   "outputs": [
    {
     "name": "stdout",
     "output_type": "stream",
     "text": [
      "              precision    recall  f1-score   support\n",
      "\n",
      "           0       0.82      0.97      0.89      2379\n",
      "           1       0.61      0.20      0.30       621\n",
      "\n",
      "    accuracy                           0.81      3000\n",
      "   macro avg       0.72      0.58      0.60      3000\n",
      "weighted avg       0.78      0.81      0.77      3000\n",
      "\n"
     ]
    }
   ],
   "source": [
    "print(classification_report(y_test,y_test_pred))"
   ]
  },
  {
   "cell_type": "markdown",
   "id": "4d9f3805",
   "metadata": {
    "papermill": {
     "duration": 0.022511,
     "end_time": "2022-07-27T03:03:04.708723",
     "exception": false,
     "start_time": "2022-07-27T03:03:04.686212",
     "status": "completed"
    },
    "tags": []
   },
   "source": [
    "**ROC Area**"
   ]
  },
  {
   "cell_type": "code",
   "execution_count": 39,
   "id": "faf4c998",
   "metadata": {
    "execution": {
     "iopub.execute_input": "2022-07-27T03:03:04.757862Z",
     "iopub.status.busy": "2022-07-27T03:03:04.757033Z",
     "iopub.status.idle": "2022-07-27T03:03:04.767269Z",
     "shell.execute_reply": "2022-07-27T03:03:04.766245Z"
    },
    "papermill": {
     "duration": 0.037368,
     "end_time": "2022-07-27T03:03:04.769596",
     "exception": false,
     "start_time": "2022-07-27T03:03:04.732228",
     "status": "completed"
    },
    "tags": []
   },
   "outputs": [
    {
     "data": {
      "text/plain": [
       "0.771"
      ]
     },
     "execution_count": 39,
     "metadata": {},
     "output_type": "execute_result"
    }
   ],
   "source": [
    "roc_auc_score(y_test, y_probs[:,1]).round(4)"
   ]
  },
  {
   "cell_type": "markdown",
   "id": "3034ac64",
   "metadata": {
    "papermill": {
     "duration": 0.023567,
     "end_time": "2022-07-27T03:03:04.815921",
     "exception": false,
     "start_time": "2022-07-27T03:03:04.792354",
     "status": "completed"
    },
    "tags": []
   },
   "source": [
    "**LOG LOSS**"
   ]
  },
  {
   "cell_type": "code",
   "execution_count": 40,
   "id": "37e0174e",
   "metadata": {
    "execution": {
     "iopub.execute_input": "2022-07-27T03:03:04.864903Z",
     "iopub.status.busy": "2022-07-27T03:03:04.864521Z",
     "iopub.status.idle": "2022-07-27T03:03:04.873378Z",
     "shell.execute_reply": "2022-07-27T03:03:04.872506Z"
    },
    "papermill": {
     "duration": 0.035829,
     "end_time": "2022-07-27T03:03:04.875498",
     "exception": false,
     "start_time": "2022-07-27T03:03:04.839669",
     "status": "completed"
    },
    "tags": []
   },
   "outputs": [
    {
     "data": {
      "text/plain": [
       "0.4406041819063359"
      ]
     },
     "execution_count": 40,
     "metadata": {},
     "output_type": "execute_result"
    }
   ],
   "source": [
    "log_loss(y_test, y_probs[:,1])"
   ]
  }
 ],
 "metadata": {
  "kernelspec": {
   "display_name": "Python 3",
   "language": "python",
   "name": "python3"
  },
  "language_info": {
   "codemirror_mode": {
    "name": "ipython",
    "version": 3
   },
   "file_extension": ".py",
   "mimetype": "text/x-python",
   "name": "python",
   "nbconvert_exporter": "python",
   "pygments_lexer": "ipython3",
   "version": "3.7.12"
  },
  "papermill": {
   "default_parameters": {},
   "duration": 22.201039,
   "end_time": "2022-07-27T03:03:05.721479",
   "environment_variables": {},
   "exception": null,
   "input_path": "__notebook__.ipynb",
   "output_path": "__notebook__.ipynb",
   "parameters": {},
   "start_time": "2022-07-27T03:02:43.520440",
   "version": "2.3.4"
  }
 },
 "nbformat": 4,
 "nbformat_minor": 5
}
